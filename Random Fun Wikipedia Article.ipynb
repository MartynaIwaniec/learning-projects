{
 "cells": [
  {
   "cell_type": "markdown",
   "metadata": {},
   "source": [
    "### Random Fun Wikipedia Article\n",
    "From Wikipedia itself: \"**The Special:Random page** is a link which will automatically (and randomly) take you to any page on Wikipedia. It is useful for random page patrollers, curious readers and bored people.\""
   ]
  },
  {
   "cell_type": "code",
   "execution_count": 11,
   "metadata": {},
   "outputs": [
    {
     "name": "stdout",
     "output_type": "stream",
     "text": [
      "Rahoneen (\"Ráth Eoghainín\") is a townland of Ardfert in County Kerry, Ireland.[1]\n",
      "\n",
      "It is notable as the location of an ancient Celtic ringfort; at one time this was known as McKenna's fort, but, after the capture and execution of Roger Casement for treason, sabotage and espionage against the Crown, it became known as Casement's Fort. \n",
      "\n",
      "In the early hours of 21 April 1916, Casement was put ashore at nearby Banna strand from U19. Too weak to travel, he was discovered at McKenna's Fort where he had hidden after arranging delivery of German weapons as part of a plan of arming Irish rebels for the Easter Rising in 1916 against the British to achieve independence. \n",
      "\n",
      "\n",
      "\n"
     ]
    }
   ],
   "source": [
    "from bs4 import BeautifulSoup\n",
    "import requests\n",
    "\n",
    "res = requests.get(\"https://en.wikipedia.org/wiki/Special:Random\")\n",
    "res.raise_for_status()\n",
    "\n",
    "wiki = BeautifulSoup(res.text, \"html.parser\")\n",
    "# if this doesnt work, uncomment and run the command below \n",
    "# pip install htmlparser\n",
    "\n",
    "#r.write(heading + \"\\n\")\n",
    "for i in wiki.select(\"p\"):\n",
    "    print(i.getText())"
   ]
  },
  {
   "cell_type": "markdown",
   "metadata": {},
   "source": [
    "If you want to save the output into a file, add the code below to the program:\n",
    "\n",
    "``` r = open(\"wikipedia_fact.txt\", \"w+\", encoding='utf-8') ```\n",
    "\n",
    "Now, we add the heading to the text file:\n",
    "\n",
    "``` heading = wiki.find(\"h1\").text ```\n",
    "\n",
    "``` r.write(i.getText())\n",
    "r.close()\n",
    "print(\"Random Wikipedia article saved into the file!\") ```"
   ]
  },
  {
   "cell_type": "code",
   "execution_count": null,
   "metadata": {},
   "outputs": [],
   "source": []
  }
 ],
 "metadata": {
  "kernelspec": {
   "display_name": "Python 3",
   "language": "python",
   "name": "python3"
  },
  "language_info": {
   "codemirror_mode": {
    "name": "ipython",
    "version": 3
   },
   "file_extension": ".py",
   "mimetype": "text/x-python",
   "name": "python",
   "nbconvert_exporter": "python",
   "pygments_lexer": "ipython3",
   "version": "3.8.3"
  }
 },
 "nbformat": 4,
 "nbformat_minor": 4
}
